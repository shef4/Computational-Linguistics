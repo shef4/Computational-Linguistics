{
 "cells": [
  {
   "cell_type": "code",
   "execution_count": 6,
   "metadata": {},
   "outputs": [],
   "source": [
    "\"\"\"Linear Regression find best linear fit to data\"\"\"\n",
    "from __future__ import absolute_import\n",
    "from __future__ import division\n",
    "from __future__ import print_function\n",
    "\n",
    "import numpy as np\n",
    "import tensorflow as tf\n",
    "import matplotlib\n",
    "matplotlib.use('TKAgg')\n",
    "from matplotlib import pyplot as plt\n",
    "\n",
    "def generate_dataset():\n",
    "     #formula: y = 2x+e\n",
    "    # e sampled from normal distribution\n",
    "    x_batch = np.linespace(-1,1,101)\n",
    "    y_batch = 2 * x_batch + np.random.randn(*x_batch.shape) * 0.3\n",
    "    return x_batch, y_batch\n",
    "\n",
    "def linear_regression():\n",
    "    x = tf.placeholder(tf.float32, shape =(None,), name='x')\n",
    "    y = tf.placeholder(tf.float32, shape =(None,), name='y')\n",
    "    \n",
    "    with tf.variablescope('lreg') as scope:\n",
    "        w = tf.Variable(np.random.normal(), name = 'W')\n",
    "        y_pred = tf.mul(w,x)\n",
    "        \n",
    "        loss = tf.reduce_mean(tf.square(y_pred-y))\n",
    "    return x, y, y_pred, loss\n",
    "\n",
    "def run():\n",
    "    x_batch, y_batch = generate_dataset()\n",
    "    \n",
    "    x,y,y_pred,loss = linear_regression()\n",
    "    optimizer = tf.train.GradientDescentOptimizer(0.1).minimize(loss)\n",
    "    \n",
    "    init = tf.global_variables_initializer()\n",
    "    with tf.session() as session:\n",
    "        session.run(init)\n",
    "        \n",
    "        feed_dict = {x:x_batch, y:y_batch}\n",
    "        for i in range(30):\n",
    "            loss_val, _ = session.run([loss, optimizer], feed_dict)\n",
    "            print('loss: ', loss_val.mean())\n",
    "            \n",
    "        y_pred_batch = session.run(y_pred,{x:x_batch})\n",
    "\n",
    "    plt.figure(1)\n",
    "    plt.scatter(x_batch,y_batch)\n",
    "    plt.plot(x_batch,y_pred_batch)\n",
    "    plt.savefigure('LinReg_plot.png')\n"
   ]
  },
  {
   "cell_type": "code",
   "execution_count": null,
   "metadata": {},
   "outputs": [],
   "source": []
  }
 ],
 "metadata": {
  "kernelspec": {
   "display_name": "Python 3",
   "language": "python",
   "name": "python3"
  },
  "language_info": {
   "codemirror_mode": {
    "name": "ipython",
    "version": 3
   },
   "file_extension": ".py",
   "mimetype": "text/x-python",
   "name": "python",
   "nbconvert_exporter": "python",
   "pygments_lexer": "ipython3",
   "version": "3.8.5"
  }
 },
 "nbformat": 4,
 "nbformat_minor": 4
}
