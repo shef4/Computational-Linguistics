{
 "cells": [
  {
   "cell_type": "code",
   "execution_count": 13,
   "metadata": {},
   "outputs": [
    {
     "name": "stdout",
     "output_type": "stream",
     "text": [
      "x  Tensor(\"Placeholder_5:0\", shape=(100, 784), dtype=float32)\n",
      "W  <tf.Variable 'Variable_11:0' shape=(784, 100) dtype=float32_ref>\n",
      "b  <tf.Variable 'Variable_10:0' shape=(100,) dtype=float32_ref>\n",
      "h  Tensor(\"Relu_4:0\", shape=(100, 100), dtype=float32)\n"
     ]
    },
    {
     "ename": "AttributeError",
     "evalue": "module 'tensorflow.compat.v1' has no attribute 'session'",
     "output_type": "error",
     "traceback": [
      "\u001b[1;31m---------------------------------------------------------------------------\u001b[0m",
      "\u001b[1;31mAttributeError\u001b[0m                            Traceback (most recent call last)",
      "\u001b[1;32m<ipython-input-13-ed222f6048a9>\u001b[0m in \u001b[0;36m<module>\u001b[1;34m\u001b[0m\n\u001b[0;32m     15\u001b[0m \u001b[1;33m\u001b[0m\u001b[0m\n\u001b[0;32m     16\u001b[0m \u001b[1;34m\"\"\"Build session Object\"\"\"\u001b[0m\u001b[1;33m\u001b[0m\u001b[1;33m\u001b[0m\u001b[0m\n\u001b[1;32m---> 17\u001b[1;33m \u001b[0msess\u001b[0m \u001b[1;33m=\u001b[0m \u001b[0mtf\u001b[0m\u001b[1;33m.\u001b[0m\u001b[0msession\u001b[0m\u001b[1;33m(\u001b[0m\u001b[1;33m)\u001b[0m\u001b[1;33m\u001b[0m\u001b[1;33m\u001b[0m\u001b[0m\n\u001b[0m\u001b[0;32m     18\u001b[0m \u001b[1;31m#Sets Wieght W and Bias b\u001b[0m\u001b[1;33m\u001b[0m\u001b[1;33m\u001b[0m\u001b[1;33m\u001b[0m\u001b[0m\n\u001b[0;32m     19\u001b[0m \u001b[0msess\u001b[0m\u001b[1;33m.\u001b[0m\u001b[0mrun\u001b[0m\u001b[1;33m(\u001b[0m\u001b[0mtf\u001b[0m\u001b[1;33m.\u001b[0m\u001b[0minitialize_all_variables\u001b[0m\u001b[1;33m(\u001b[0m\u001b[1;33m)\u001b[0m\u001b[1;33m)\u001b[0m\u001b[1;33m\u001b[0m\u001b[1;33m\u001b[0m\u001b[0m\n",
      "\u001b[1;31mAttributeError\u001b[0m: module 'tensorflow.compat.v1' has no attribute 'session'"
     ]
    }
   ],
   "source": [
    "import tensorflow.compat.v1 as tf\n",
    "tf.disable_v2_behavior() \n",
    "\n",
    "\"\"\"Define Graph\"\"\"\n",
    "b = tf.Variable(tf.zeros((100,)))\n",
    "W = tf.Variable(tf.random.uniform((784,100),-1,1))\n",
    "\n",
    "x = tf.placeholder(tf.float32,(100,784))\n",
    "\n",
    "h = tf.nn.relu(tf.matmul(x,W) + b)\n",
    "print(\"x \",x)\n",
    "print(\"W \",W)\n",
    "print(\"b \",b)\n",
    "print(\"h \",h)\n",
    "\n",
    "\"\"\"Build session Object\"\"\"\n",
    "sess = tf.session()\n",
    "#Sets Wieght W and Bias b\n",
    "sess.run(tf.initialize_all_variables())\n",
    "#output, input \n",
    "sess.run(h,{x: np.random.random(100,784)})\n",
    "\n",
    "\"\"\"Build loss node using labels and prediction\"\"\"\n",
    "prediction = tf.nn.softmax(...) #neural network output\n",
    "label = tf.placeholder(tf.float32,[None,10]) #each row is one hot vector to identify target\n",
    "\n",
    "cross_entropy = tf.reduce_mean(-tf.reduce_sum(label*tf.log(prediction), reduction_indices=[1]))\n",
    "\"\"\"Compute Gradient\"\"\"\n",
    "#optimizer obj tf.train.GradientDescentOptimizer\n",
    "#tf.train.GradientDescentOptimizer(lr).minimize(cross_entropy) adds optimiatzion operation\n",
    "train_step = tf.train.GradientDescentOptimizer(0.5).minimize(cross_entropy)\n",
    "\n",
    "\"\"\"Training\"\"\"\n",
    "#create session\n",
    "sess = tf.session()\n",
    "sess.run(tf.initialize_all_variables())\n",
    "\n",
    "for i in range(100):\n",
    "    #build trraining sechdule \n",
    "    batch_x,batch_label = data.next_batch()\n",
    "    #run\n",
    "    sess.run(train_step, feed_dict={x:batch_x,\n",
    "                                   label: batch_label})\n",
    "    \n",
    "    \"\"\"Summary\n",
    "    build a graph\n",
    "        Feedforward/prediction\n",
    "        Otimization() \n",
    "    \n",
    "    initalize a session\n",
    "    \n",
    "    trian with session run\n",
    "    \"\"\""
   ]
  },
  {
   "cell_type": "code",
   "execution_count": null,
   "metadata": {},
   "outputs": [],
   "source": [
    "\"\"\"sharing variables\"\"\"\n",
    "#naive app. dict (not good for encapsulation )\n",
    "b = tf.Variable(tf.zeros((100,)))\n",
    "W = tf.Variable(tf.random.uniform((784,100),-1,1))\n",
    "\n",
    "#tensorflow solution\n",
    "#like accesssing a \n",
    "with tf.variable_scope(\"foo\"):\n",
    "    v = tf.get_variable(\"v\", shape = [1]) # v.name == \"foo/v:0\"\n",
    "    \n",
    "with tf.variable_scope(\"foo\", reuse = True):\n",
    "    v1 = tf.get_variable(\"v\", shape = [1]) # shared a variable found\n",
    "    \n",
    "with tf.variable_scope(\"foo\", reuse = False):\n",
    "    v1 = tf.get_variable(\"v\", shape = [1]) # CRASH foo/v:0 already exist\n",
    "\n"
   ]
  },
  {
   "cell_type": "code",
   "execution_count": null,
   "metadata": {},
   "outputs": [],
   "source": []
  }
 ],
 "metadata": {
  "kernelspec": {
   "display_name": "Python 3",
   "language": "python",
   "name": "python3"
  },
  "language_info": {
   "codemirror_mode": {
    "name": "ipython",
    "version": 3
   },
   "file_extension": ".py",
   "mimetype": "text/x-python",
   "name": "python",
   "nbconvert_exporter": "python",
   "pygments_lexer": "ipython3",
   "version": "3.8.5"
  }
 },
 "nbformat": 4,
 "nbformat_minor": 4
}
